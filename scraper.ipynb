{
 "cells": [
  {
   "cell_type": "code",
   "execution_count": 16,
   "metadata": {},
   "outputs": [],
   "source": [
    "###Imports\n",
    "import os, subprocess, json, csv, uuid\n",
    "import time as tm\n",
    "from IPython.display import display_javascript, display_html, display\n",
    "import pandas as pd\n",
    "import numpy as np\n",
    "from datetime import date, time, timedelta\n",
    "import snscrape.modules.twitter as sntwitter"
   ]
  },
  {
   "cell_type": "code",
   "execution_count": 6,
   "metadata": {},
   "outputs": [],
   "source": [
    "#Defining the parameters\n",
    "start = date(2020, 1, 1) #Starting period\n",
    "start = start.strftime('%Y-%m-%d') #Converting into datetime format\n",
    "stop = date(2021, 10, 4) #Ending period \n",
    "stop = stop.strftime('%Y-%m-%d')"
   ]
  },
  {
   "cell_type": "code",
   "execution_count": 7,
   "metadata": {},
   "outputs": [],
   "source": [
    "#Keyword\n",
    "keyword = 'Bitcoin'\n",
    "#Max numbers of Tweets\n",
    "maxTweets = 10**6\n",
    "#inizializing an empy list\n",
    "tweets_list = []"
   ]
  },
  {
   "cell_type": "code",
   "execution_count": 8,
   "metadata": {},
   "outputs": [
    {
     "name": "stdout",
     "output_type": "stream",
     "text": [
      "execution time was: 36031.03344750404\n"
     ]
    }
   ],
   "source": [
    "#Looping to populate the df\n",
    "loop_start = tm.time()\n",
    "for i,tweet in enumerate(sntwitter.TwitterSearchScraper(keyword + ' since:' + start + ' until:' + stop + ' -filter:links' + ' -filter:replies').get_items()):\n",
    "    if i>maxTweets:\n",
    "        break\n",
    "    tweets_list.append([tweet.date, tweet.id, tweet.rawContent, tweet.user.username])\n",
    "    loop_end= tm.time()\n",
    "total_time = loop_end - loop_start\n",
    "print(\"execution time was:\",str(total_time))"
   ]
  },
  {
   "cell_type": "code",
   "execution_count": 17,
   "metadata": {},
   "outputs": [
    {
     "data": {
      "text/plain": [
       "'10:00:31.033448'"
      ]
     },
     "execution_count": 17,
     "metadata": {},
     "output_type": "execute_result"
    }
   ],
   "source": [
    "str(timedelta(seconds=total_time))"
   ]
  },
  {
   "cell_type": "code",
   "execution_count": 9,
   "metadata": {},
   "outputs": [],
   "source": [
    "#Creating a df\n",
    "tweets_df = pd.DataFrame(tweets_list, columns=['Datetime', 'Tweet Id', 'Text', 'Username'])\n",
    "start_day = tweets_df.Datetime.iloc[0].strftime('%Y-%m-%d_%H-%M-%S')\n",
    "end_day = tweets_df.Datetime.iloc[-1].strftime('%Y-%m-%d_%H-%M-%S')"
   ]
  },
  {
   "cell_type": "code",
   "execution_count": 10,
   "metadata": {},
   "outputs": [],
   "source": [
    "#Exporting\n",
    "tweets_df.to_csv(keyword + '_from_'+ start_day + '_to_'+ end_day + '.csv')"
   ]
  }
 ],
 "metadata": {
  "kernelspec": {
   "display_name": "paper1_venv",
   "language": "python",
   "name": "python3"
  },
  "language_info": {
   "codemirror_mode": {
    "name": "ipython",
    "version": 3
   },
   "file_extension": ".py",
   "mimetype": "text/x-python",
   "name": "python",
   "nbconvert_exporter": "python",
   "pygments_lexer": "ipython3",
   "version": "3.10.8"
  },
  "orig_nbformat": 4,
  "vscode": {
   "interpreter": {
    "hash": "fb81384846b9b7f8d2f55ea8cfb80d355ddcf9934f98e7e175044fde44492714"
   }
  }
 },
 "nbformat": 4,
 "nbformat_minor": 2
}
