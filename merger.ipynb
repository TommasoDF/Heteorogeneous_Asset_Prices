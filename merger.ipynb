{
 "cells": [
  {
   "cell_type": "code",
   "execution_count": 1,
   "metadata": {},
   "outputs": [],
   "source": [
    "import pandas as pd"
   ]
  },
  {
   "cell_type": "code",
   "execution_count": 69,
   "metadata": {},
   "outputs": [],
   "source": [
    "#Importing the dataframes\n",
    "df = pd.read_csv(\"BTC_from_2022-03-24_23-59-56_to_2021-12-22_00-00-00.csv\")\n",
    "df = df.set_index('Datetime')\n",
    "df.index = pd.to_datetime(df.index)"
   ]
  },
  {
   "cell_type": "code",
   "execution_count": 65,
   "metadata": {},
   "outputs": [],
   "source": [
    "#Importing the dataframes\n",
    "df1 = pd.read_csv(\"Bitcoin_from_2021-06-19_23-59-18_to_2021-06-17_00-00-00.csv\")\n",
    "df1 = df1.set_index('Datetime')\n",
    "df1.index = pd.to_datetime(df1.index)"
   ]
  },
  {
   "cell_type": "code",
   "execution_count": 28,
   "metadata": {},
   "outputs": [],
   "source": [
    "# #Importing the dataframes\n",
    "# df2 = pd.read_csv(\"Bitcoin_from_2022-06-17_23-59-49_to_2022-06-15_00-00-00.csv\")\n",
    "# df2 = df2.set_index('Datetime')\n",
    "# df2.index = pd.to_datetime(df2.index)"
   ]
  },
  {
   "cell_type": "code",
   "execution_count": 29,
   "metadata": {},
   "outputs": [],
   "source": [
    "# df1 = pd.concat([df1, df2])\n",
    "# df1 = df1.drop_duplicates(subset='Tweet Id')"
   ]
  },
  {
   "cell_type": "code",
   "execution_count": 66,
   "metadata": {},
   "outputs": [],
   "source": [
    "#Merging and dropping the duplicate values\n",
    "result = pd.concat([df, df1])\n",
    "result = result.drop_duplicates(subset='Tweet Id')\n",
    "result = result.loc[:,['Tweet Id', 'Text', 'Username']]"
   ]
  },
  {
   "cell_type": "code",
   "execution_count": 67,
   "metadata": {},
   "outputs": [
    {
     "name": "stdout",
     "output_type": "stream",
     "text": [
      "2021-10-03_23-59-46 2021-06-17_00-00-00 1018760\n"
     ]
    }
   ],
   "source": [
    "#Checking the intial and ending date\n",
    "start_day = result.index[0].strftime('%Y-%m-%d_%H-%M-%S')\n",
    "end_day = result.index[-1].strftime('%Y-%m-%d_%H-%M-%S')\n",
    "print(start_day, end_day, len(result))"
   ]
  },
  {
   "cell_type": "code",
   "execution_count": 73,
   "metadata": {},
   "outputs": [],
   "source": [
    "result.to_csv('BTC' + '_from_'+ start_day + '_to_'+ end_day + '.csv', index=True, index_label='Datetime')"
   ]
  },
  {
   "cell_type": "code",
   "execution_count": 70,
   "metadata": {},
   "outputs": [
    {
     "data": {
      "text/plain": [
       "1008885"
      ]
     },
     "execution_count": 70,
     "metadata": {},
     "output_type": "execute_result"
    }
   ],
   "source": [
    "len(df)"
   ]
  },
  {
   "cell_type": "code",
   "execution_count": 71,
   "metadata": {},
   "outputs": [
    {
     "data": {
      "text/plain": [
       "995399"
      ]
     },
     "execution_count": 71,
     "metadata": {},
     "output_type": "execute_result"
    }
   ],
   "source": [
    "given_date = pd.to_datetime(\"2022-03-24 00:00:00+00:00\")\n",
    "df = df[df.index < given_date]\n",
    "len(df)"
   ]
  },
  {
   "cell_type": "code",
   "execution_count": 74,
   "metadata": {},
   "outputs": [
    {
     "name": "stdout",
     "output_type": "stream",
     "text": [
      "2022-03-23_23-59-59 2021-12-22_00-00-00 1018760\n"
     ]
    }
   ],
   "source": [
    "#Checking the intial and ending date\n",
    "start_day = df.index[0].strftime('%Y-%m-%d_%H-%M-%S')\n",
    "end_day = df.index[-1].strftime('%Y-%m-%d_%H-%M-%S')\n",
    "print(start_day, end_day, len(result))"
   ]
  },
  {
   "cell_type": "code",
   "execution_count": 72,
   "metadata": {},
   "outputs": [],
   "source": [
    "df.to_csv('BTC' + '_from_'+ start_day + '_to_'+ end_day + '.csv', index=True, index_label='Datetime')"
   ]
  }
 ],
 "metadata": {
  "kernelspec": {
   "display_name": "paper1_venv",
   "language": "python",
   "name": "python3"
  },
  "language_info": {
   "codemirror_mode": {
    "name": "ipython",
    "version": 3
   },
   "file_extension": ".py",
   "mimetype": "text/x-python",
   "name": "python",
   "nbconvert_exporter": "python",
   "pygments_lexer": "ipython3",
   "version": "3.10.8"
  },
  "orig_nbformat": 4,
  "vscode": {
   "interpreter": {
    "hash": "fb81384846b9b7f8d2f55ea8cfb80d355ddcf9934f98e7e175044fde44492714"
   }
  }
 },
 "nbformat": 4,
 "nbformat_minor": 2
}
